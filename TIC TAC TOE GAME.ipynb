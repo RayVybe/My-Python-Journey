{
 "cells": [
  {
   "cell_type": "code",
   "execution_count": 19,
   "id": "ea400b79-13e9-4053-a8d2-deb9994e0f22",
   "metadata": {},
   "outputs": [],
   "source": [
    "from IPython.display import clear_output\n",
    "\n",
    "def display_board(board):\n",
    "\n",
    "    clear_output()\n",
    "    \n",
    "    print('|       |       |       |')\n",
    "    print(f'|   {board[7]}   |   {board[8]}   |   {board[9]}   |')\n",
    "    print('|       |       |       |')\n",
    "    print('-------------------------')\n",
    "    print('|       |       |       |')\n",
    "    print(f'|   {board[4]}   |   {board[5]}   |   {board[6]}   |')\n",
    "    print('|       |       |       |')\n",
    "    print('-------------------------')\n",
    "    print('|       |       |       |')\n",
    "    print(f'|   {board[1]}   |   {board[2]}   |   {board[3]}   |')\n",
    "    print('|       |       |       |')"
   ]
  },
  {
   "cell_type": "code",
   "execution_count": 20,
   "id": "0e6d054f-3875-4db1-9355-ad2568bbda2a",
   "metadata": {},
   "outputs": [
    {
     "name": "stdout",
     "output_type": "stream",
     "text": [
      "|       |       |       |\n",
      "|   X   |   O   |   X   |\n",
      "|       |       |       |\n",
      "-------------------------\n",
      "|       |       |       |\n",
      "|   O   |   X   |   O   |\n",
      "|       |       |       |\n",
      "-------------------------\n",
      "|       |       |       |\n",
      "|   X   |   O   |   X   |\n",
      "|       |       |       |\n"
     ]
    }
   ],
   "source": [
    "test_board = [' ','X','O','X','O','X','O','X','O','X']\n",
    "display_board(test_board)"
   ]
  },
  {
   "cell_type": "code",
   "execution_count": 21,
   "id": "99b87d3b-02ce-4ab1-bc22-2ab5243fc641",
   "metadata": {},
   "outputs": [],
   "source": [
    "def player_input():\n",
    "    marker = ''\n",
    "    \n",
    "    while not (marker == 'X' or marker == 'O'):\n",
    "        marker = input('Player 1: Do you want to be X or O? ').upper()\n",
    "\n",
    "    if marker == 'X':\n",
    "        return ('X', 'O')\n",
    "    else:\n",
    "        return ('O', 'X')\n"
   ]
  },
  {
   "cell_type": "code",
   "execution_count": 22,
   "id": "4b1e483d-e902-4116-be82-3053a2d4e7da",
   "metadata": {},
   "outputs": [
    {
     "name": "stdin",
     "output_type": "stream",
     "text": [
      "Player 1: Do you want to be X or O?  x\n"
     ]
    }
   ],
   "source": [
    "player1_marker,player2_marker = player_input()"
   ]
  },
  {
   "cell_type": "code",
   "execution_count": 23,
   "id": "b429f7f9-6743-42d0-9456-53a742cd5fc3",
   "metadata": {},
   "outputs": [
    {
     "data": {
      "text/plain": [
       "'X'"
      ]
     },
     "execution_count": 23,
     "metadata": {},
     "output_type": "execute_result"
    }
   ],
   "source": [
    "player1_marker"
   ]
  },
  {
   "cell_type": "code",
   "execution_count": 24,
   "id": "4ed15a44-190b-4abd-b5f1-2b8cad9a1aca",
   "metadata": {},
   "outputs": [
    {
     "data": {
      "text/plain": [
       "'O'"
      ]
     },
     "execution_count": 24,
     "metadata": {},
     "output_type": "execute_result"
    }
   ],
   "source": [
    "player2_marker"
   ]
  },
  {
   "cell_type": "code",
   "execution_count": 25,
   "id": "bc2f9c48-0de1-46d6-96ed-7a390452dcd0",
   "metadata": {},
   "outputs": [],
   "source": [
    "def place_marker(board, marker, position):\n",
    "    \n",
    "    board[position] = marker"
   ]
  },
  {
   "cell_type": "code",
   "execution_count": 26,
   "id": "625754d3-ef9e-4620-8b8d-51f56713a01f",
   "metadata": {},
   "outputs": [
    {
     "name": "stdout",
     "output_type": "stream",
     "text": [
      "|       |       |       |\n",
      "|   X   |   $   |   X   |\n",
      "|       |       |       |\n",
      "-------------------------\n",
      "|       |       |       |\n",
      "|   O   |   X   |   O   |\n",
      "|       |       |       |\n",
      "-------------------------\n",
      "|       |       |       |\n",
      "|   X   |   O   |   X   |\n",
      "|       |       |       |\n"
     ]
    }
   ],
   "source": [
    "place_marker(test_board,'$',8)\n",
    "display_board(test_board)"
   ]
  },
  {
   "cell_type": "code",
   "execution_count": 27,
   "id": "8ca71abd-7a2a-4d09-bd7a-249b9e46e5fd",
   "metadata": {},
   "outputs": [],
   "source": [
    "\n",
    "def win_check(board,mark):\n",
    "    \n",
    "    return ((board[7] == mark and board[8] == mark and board[9] == mark) or # across the top\n",
    "    (board[4] == mark and board[5] == mark and board[6] == mark) or # across the middle\n",
    "    (board[1] == mark and board[2] == mark and board[3] == mark) or # across the bottom\n",
    "    (board[7] == mark and board[4] == mark and board[1] == mark) or # down the middle\n",
    "    (board[8] == mark and board[5] == mark and board[2] == mark) or # down the middle\n",
    "    (board[9] == mark and board[6] == mark and board[3] == mark) or # down the right side\n",
    "    (board[7] == mark and board[5] == mark and board[3] == mark) or # diagonal\n",
    "    (board[9] == mark and board[5] == mark and board[1] == mark)) # diagonal\n",
    "    "
   ]
  },
  {
   "cell_type": "code",
   "execution_count": 28,
   "id": "6e0d0411-cc60-45a4-bac1-341a86801b16",
   "metadata": {},
   "outputs": [
    {
     "name": "stdout",
     "output_type": "stream",
     "text": [
      "|       |       |       |\n",
      "|   X   |   $   |   X   |\n",
      "|       |       |       |\n",
      "-------------------------\n",
      "|       |       |       |\n",
      "|   O   |   X   |   O   |\n",
      "|       |       |       |\n",
      "-------------------------\n",
      "|       |       |       |\n",
      "|   X   |   O   |   X   |\n",
      "|       |       |       |\n"
     ]
    },
    {
     "data": {
      "text/plain": [
       "True"
      ]
     },
     "execution_count": 28,
     "metadata": {},
     "output_type": "execute_result"
    }
   ],
   "source": [
    "display_board(test_board)\n",
    "win_check(test_board,'X')\n"
   ]
  },
  {
   "cell_type": "code",
   "execution_count": 29,
   "id": "8b5c0ba4-ac34-42e2-957e-80c8c7a1fab3",
   "metadata": {},
   "outputs": [],
   "source": [
    "import random\n",
    "\n",
    "def choose_first():\n",
    "    \n",
    "    n = random.randint(1,2)\n",
    "    if n == 1:\n",
    "         return 'Player 1'\n",
    "    else:\n",
    "        return 'Player 2'\n",
    "\n",
    "    return random_number"
   ]
  },
  {
   "cell_type": "code",
   "execution_count": 30,
   "id": "bbfb6a1d-03ec-4660-ab55-43d4ee7b1b07",
   "metadata": {},
   "outputs": [
    {
     "data": {
      "text/plain": [
       "'Player 2'"
      ]
     },
     "execution_count": 30,
     "metadata": {},
     "output_type": "execute_result"
    }
   ],
   "source": [
    "choose_first()"
   ]
  },
  {
   "cell_type": "code",
   "execution_count": 31,
   "id": "7e8f46d3-d7a5-4120-a232-8991cd6b5bd8",
   "metadata": {},
   "outputs": [],
   "source": [
    "def space_check(board,position):\n",
    "\n",
    "    return board[position] == ' '"
   ]
  },
  {
   "cell_type": "code",
   "execution_count": 32,
   "id": "7bb822dd-5a66-4e75-8be6-a520dc59ee10",
   "metadata": {},
   "outputs": [],
   "source": [
    "def full_board_check(board):\n",
    "\n",
    "    for i in range(1,10):\n",
    "        if space_check(board,i):\n",
    "            return False\n",
    "    return True #Board is full"
   ]
  },
  {
   "cell_type": "code",
   "execution_count": 33,
   "id": "a004574c-16d7-4bc0-ba34-0ccaaf268042",
   "metadata": {},
   "outputs": [],
   "source": [
    "def player_choice(board):\n",
    "\n",
    "    position = 0\n",
    "\n",
    "    while position not in range(1,10) or not space_check(board,position):\n",
    "        position = int(input('Choose a position: (1-9) '))\n",
    "\n",
    "    return position"
   ]
  },
  {
   "cell_type": "code",
   "execution_count": 34,
   "id": "5880960c-e34f-46af-a98e-df38822ed67c",
   "metadata": {},
   "outputs": [],
   "source": [
    "def replay():\n",
    "    \n",
    "    return input('Do you want to play again? Enter Yes or No: ').lower().startswith('y')"
   ]
  },
  {
   "cell_type": "code",
   "execution_count": null,
   "id": "3c4736d2-2ae8-4ac9-ae16-bf8285a3a8b6",
   "metadata": {},
   "outputs": [
    {
     "name": "stdout",
     "output_type": "stream",
     "text": [
      "Welcome to TIC TAC TOE!\n"
     ]
    }
   ],
   "source": [
    "print('Welcome to TIC TAC TOE!')\n",
    "\n",
    "while True:\n",
    "\n",
    "    #START\n",
    "    the_board = [' ']*10\n",
    "    player1_marker,player2_marker = player_input()\n",
    "\n",
    "    turn = choose_first()\n",
    "    print(turn + ' will go first.')\n",
    "    \n",
    "    play_game = input('Ready to play? Y or N?').upper()\n",
    "\n",
    "    if play_game == 'Y':\n",
    "        game_on = True\n",
    "    else:\n",
    "        game_on = False\n",
    "\n",
    "    #GAME PLAY\n",
    "    while game_on:\n",
    "        #PLAYER 1 TURN\n",
    "        if turn == 'Player 1':\n",
    "\n",
    "            #Show the board\n",
    "            display_board(the_board)\n",
    "\n",
    "            #Choose a position\n",
    "            position = player_choice(the_board)\n",
    "\n",
    "            #Place the marker on the position\n",
    "            place_marker(the_board,player1_marker,position)\n",
    "\n",
    "            #Check if they won\n",
    "            if win_check(the_board,player1_marker):\n",
    "                display_board(the_board)\n",
    "                print('PLAYER 1 HAS WON!!')\n",
    "                game_on = False\n",
    "                \n",
    "            #Check tie \n",
    "            else:\n",
    "                if full_board_check(the_board):\n",
    "                    display_board(the_board)\n",
    "                    print('TIE GAME!!')\n",
    "                else:\n",
    "                    turn = 'Player 2'\n",
    "        else:\n",
    "            #PLAYER 2 TURN\n",
    "\n",
    "            #Show the board\n",
    "            display_board(the_board)\n",
    "\n",
    "            #Choose a position\n",
    "            position = player_choice(the_board)\n",
    "\n",
    "            #Place the marker on the position\n",
    "            place_marker(the_board,player2_marker,position)\n",
    "\n",
    "            #Check if they won\n",
    "            if win_check(the_board,player2_marker):\n",
    "                display_board(the_board)\n",
    "                print('PLAYER 2 HAS WON!!')\n",
    "                game_on = False\n",
    "                \n",
    "            #Check tie \n",
    "            else:\n",
    "                if full_board_check(the_board):\n",
    "                    display_board(the_board)\n",
    "                    print('TIE GAME!!')\n",
    "                    game_on = False\n",
    "                else:\n",
    "                    turn = 'Player 1'\n",
    "\n",
    "    if not replay():\n",
    "        break"
   ]
  },
  {
   "cell_type": "code",
   "execution_count": null,
   "id": "793e31b0-1851-47e1-9a26-105ea92cbee7",
   "metadata": {},
   "outputs": [],
   "source": []
  }
 ],
 "metadata": {
  "kernelspec": {
   "display_name": "Python 3 (ipykernel)",
   "language": "python",
   "name": "python3"
  },
  "language_info": {
   "codemirror_mode": {
    "name": "ipython",
    "version": 3
   },
   "file_extension": ".py",
   "mimetype": "text/x-python",
   "name": "python",
   "nbconvert_exporter": "python",
   "pygments_lexer": "ipython3",
   "version": "3.13.5"
  }
 },
 "nbformat": 4,
 "nbformat_minor": 5
}
