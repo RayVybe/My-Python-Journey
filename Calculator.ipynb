{
 "cells": [
  {
   "cell_type": "code",
   "execution_count": 1,
   "id": "9ad5a582-c5e1-4868-8a4e-0cc305de286a",
   "metadata": {},
   "outputs": [],
   "source": [
    "def add_operator(*args):\n",
    "\n",
    "    total = 0\n",
    "    for i in args:\n",
    "        total += i\n",
    "    return total"
   ]
  },
  {
   "cell_type": "code",
   "execution_count": 3,
   "id": "4f7c3b34-dc74-4f86-b4a1-63984e370342",
   "metadata": {},
   "outputs": [],
   "source": [
    "def subtract_operator(*args):\n",
    "    if not args:\n",
    "        return 0  # Or raise an error, depending on desired behavior for no arguments\n",
    "    \n",
    "    result = args[0]\n",
    "    for num in args[1:]:\n",
    "        result -= num\n",
    "    return result"
   ]
  },
  {
   "cell_type": "code",
   "execution_count": 4,
   "id": "663ee0a3-cbd5-4675-9194-92c78e94ba2e",
   "metadata": {},
   "outputs": [],
   "source": [
    "def multiply_operator(*args):\n",
    "    \"\"\"\n",
    "    Multiplies all numerical arguments passed to the function.\n",
    "    Returns 1 if no arguments are provided (identity for multiplication).\n",
    "    \"\"\"\n",
    "    product = 1\n",
    "    for arg in args:\n",
    "        product *= arg\n",
    "    return product"
   ]
  },
  {
   "cell_type": "code",
   "execution_count": 5,
   "id": "531635e2-9ecb-4573-8c7e-6e818a95b656",
   "metadata": {},
   "outputs": [],
   "source": [
    "def divide_operator(*args):\n",
    "    \"\"\"\n",
    "    Divides the first argument by subsequent arguments.\n",
    "    Handles potential ZeroDivisionError if any divisor is zero.\n",
    "    \"\"\"\n",
    "    if not args:\n",
    "        raise ValueError(\"At least one argument is required for division.\")\n",
    "    \n",
    "    result = args[0]  # Start with the first argument\n",
    "    \n",
    "    for i in range(1, len(args)):\n",
    "        divisor = args[i]\n",
    "        if divisor == 0:\n",
    "            raise ZeroDivisionError(\"Cannot divide by zero.\")\n",
    "        result /= divisor\n",
    "        \n",
    "    return result"
   ]
  },
  {
   "cell_type": "code",
   "execution_count": 6,
   "id": "320bc826-3d7d-4fdf-8cd5-6f7fa773ca17",
   "metadata": {},
   "outputs": [],
   "source": [
    "def input1():\n",
    "    return int(input('Enter first number: '))"
   ]
  },
  {
   "cell_type": "code",
   "execution_count": 7,
   "id": "e65f781a-7a92-4617-965e-4356e3a4b205",
   "metadata": {},
   "outputs": [],
   "source": [
    "def input2():\n",
    "    return int(input('Enter second number: '))"
   ]
  },
  {
   "cell_type": "code",
   "execution_count": 11,
   "id": "b5088f39-fcdc-4114-b1d7-7c83a9eb03f6",
   "metadata": {},
   "outputs": [
    {
     "name": "stdin",
     "output_type": "stream",
     "text": [
      "Choose an operation +\n",
      "Enter first number:  54\n",
      "Enter second number:  4\n"
     ]
    },
    {
     "name": "stdout",
     "output_type": "stream",
     "text": [
      "58\n"
     ]
    },
    {
     "name": "stdin",
     "output_type": "stream",
     "text": [
      "Choose an operation Exit\n"
     ]
    }
   ],
   "source": [
    "while True:\n",
    "    choice = input('Choose an operation')\n",
    "    if choice == '1' or choice == 'Add' or choice == '+':\n",
    "        first_number = input1()\n",
    "        second_number = input2()\n",
    "        print(add_operator(first_number,second_number))\n",
    "\n",
    "    elif choice == '2' or choice == 'Subtract' or choice == '-':\n",
    "        first_number = input1()\n",
    "        second_number = input2()\n",
    "        print(subtract_operator(first_number,second_number))\n",
    "\n",
    "    elif choice == '3' or choice == 'Multiply' or choice == '*' or choice == 'x':\n",
    "        first_number = input1()\n",
    "        second_number = input2()\n",
    "        print(multiply_operator(first_number,second_number))\n",
    "\n",
    "    elif choice == '4' or choice == 'Divide' or choice == '/':\n",
    "        first_number = input1()\n",
    "        second_number = input2()\n",
    "        print(divide_operator(first_number,second_number))\n",
    "\n",
    "    elif choice == '5' or choice == 'Exit':\n",
    "        break\n",
    "\n",
    "    else:\n",
    "        print('Please choose the correct number, 1,2,3,4 or 5: ')"
   ]
  },
  {
   "cell_type": "code",
   "execution_count": null,
   "id": "5650a13c-8bcd-430c-a0ad-56634a97cfe6",
   "metadata": {},
   "outputs": [],
   "source": []
  },
  {
   "cell_type": "code",
   "execution_count": null,
   "id": "8ab52235-b5fa-42ee-9981-c5e9f8245931",
   "metadata": {},
   "outputs": [],
   "source": []
  }
 ],
 "metadata": {
  "kernelspec": {
   "display_name": "Python 3 (ipykernel)",
   "language": "python",
   "name": "python3"
  },
  "language_info": {
   "codemirror_mode": {
    "name": "ipython",
    "version": 3
   },
   "file_extension": ".py",
   "mimetype": "text/x-python",
   "name": "python",
   "nbconvert_exporter": "python",
   "pygments_lexer": "ipython3",
   "version": "3.13.5"
  }
 },
 "nbformat": 4,
 "nbformat_minor": 5
}
